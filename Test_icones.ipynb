{
 "cells": [
  {
   "cell_type": "code",
   "execution_count": 1,
   "id": "piano-rapid",
   "metadata": {},
   "outputs": [
    {
     "data": {
      "text/html": [
       "<script defer src=\"https://use.fontawesome.com/releases/v5.0.8/js/all.js\" integrity=\"sha384-SlE991lGASHoBfWbelyBPLsUlwY1GwNDJo3jSJO04KZ33K2bwfV9YBauFfnzvynJ\" crossorigin=\"anonymous\"></script>\n",
       "<script disableClusteringAtZoom: 11 to L.markerClusterGroup({})></script>\n"
      ],
      "text/plain": [
       "<IPython.core.display.HTML object>"
      ]
     },
     "metadata": {},
     "output_type": "display_data"
    }
   ],
   "source": [
    "%%html\n",
    "<script defer src=\"https://use.fontawesome.com/releases/v5.0.8/js/all.js\" integrity=\"sha384-SlE991lGASHoBfWbelyBPLsUlwY1GwNDJo3jSJO04KZ33K2bwfV9YBauFfnzvynJ\" crossorigin=\"anonymous\"></script>\n",
    "<script disableClusteringAtZoom: 11 to L.markerClusterGroup({})></script>"
   ]
  },
  {
   "cell_type": "code",
   "execution_count": 2,
   "id": "stuck-emergency",
   "metadata": {},
   "outputs": [],
   "source": [
    "from ipywidgets import *\n",
    "from IPython.display import IFrame, YouTubeVideo\n",
    "from IPython.core.display import display\n",
    "import subprocess, sys\n",
    "import webbrowser"
   ]
  },
  {
   "cell_type": "code",
   "execution_count": 3,
   "id": "historical-humanity",
   "metadata": {},
   "outputs": [
    {
     "ename": "FileNotFoundError",
     "evalue": "[Errno 2] No such file or directory: 'titre3.png'",
     "output_type": "error",
     "traceback": [
      "\u001b[1;31m---------------------------------------------------------------------------\u001b[0m",
      "\u001b[1;31mFileNotFoundError\u001b[0m                         Traceback (most recent call last)",
      "\u001b[1;32m<ipython-input-3-387890f4a10b>\u001b[0m in \u001b[0;36m<module>\u001b[1;34m\u001b[0m\n\u001b[1;32m----> 1\u001b[1;33m \u001b[0mfile\u001b[0m \u001b[1;33m=\u001b[0m \u001b[0mopen\u001b[0m\u001b[1;33m(\u001b[0m\u001b[1;34m\"titre3.png\"\u001b[0m\u001b[1;33m,\u001b[0m \u001b[1;34m\"rb\"\u001b[0m\u001b[1;33m)\u001b[0m\u001b[1;33m\u001b[0m\u001b[1;33m\u001b[0m\u001b[0m\n\u001b[0m\u001b[0;32m      2\u001b[0m \u001b[0mimage\u001b[0m \u001b[1;33m=\u001b[0m \u001b[0mfile\u001b[0m\u001b[1;33m.\u001b[0m\u001b[0mread\u001b[0m\u001b[1;33m(\u001b[0m\u001b[1;33m)\u001b[0m\u001b[1;33m\u001b[0m\u001b[1;33m\u001b[0m\u001b[0m\n\u001b[0;32m      3\u001b[0m im_titre = widgets.Image(\n\u001b[0;32m      4\u001b[0m     \u001b[0mvalue\u001b[0m\u001b[1;33m=\u001b[0m\u001b[0mimage\u001b[0m\u001b[1;33m,\u001b[0m\u001b[1;33m\u001b[0m\u001b[1;33m\u001b[0m\u001b[0m\n\u001b[0;32m      5\u001b[0m     \u001b[0mformat\u001b[0m\u001b[1;33m=\u001b[0m\u001b[1;34m'png'\u001b[0m\u001b[1;33m,\u001b[0m\u001b[1;33m\u001b[0m\u001b[1;33m\u001b[0m\u001b[0m\n",
      "\u001b[1;31mFileNotFoundError\u001b[0m: [Errno 2] No such file or directory: 'titre3.png'"
     ]
    }
   ],
   "source": [
    "file = open(\"titre3.png\", \"rb\")\n",
    "image = file.read()\n",
    "im_titre = widgets.Image(\n",
    "    value=image,\n",
    "    format='png',\n",
    "    width=400,\n",
    "    height=50,\n",
    ")\n",
    "# im_titre\n",
    "# Box_im_titre=Box([im_titre])\n",
    "# Box_im_titre.layout.border = '1px solid black'\n",
    "# Box_im_titre"
   ]
  },
  {
   "cell_type": "code",
   "execution_count": null,
   "id": "characteristic-killer",
   "metadata": {},
   "outputs": [],
   "source": [
    "couleur = 'orange'"
   ]
  },
  {
   "cell_type": "code",
   "execution_count": null,
   "id": "talented-intellectual",
   "metadata": {},
   "outputs": [],
   "source": [
    "icone = \"industry\""
   ]
  },
  {
   "cell_type": "code",
   "execution_count": null,
   "id": "099e7be0",
   "metadata": {},
   "outputs": [],
   "source": [
    "def stop_video(_):\n",
    "    out.layout.display = \"none\"\n",
    "    Mode_w.value=\"---\"\n",
    "btn_exit_video = Button(description=\"Enlever la vidéo\",tooltip=\"Cliquer pour enlever la vidéo\",button_style='primary')\n",
    "btn_exit_video.on_click(stop_video)\n",
    "############\n",
    "vid=YouTubeVideo( 'xYNqP7LTNXM')     #EKo7lR1lvSY')#'eWzY2nGfkXk') https://youtu.be/xYNqP7LTNXM\n",
    "# https://youtu.be/EKo7lR1lvSY\n",
    "# Box_Vid=HBox([vid,btn_exit_video])\n",
    "out = widgets.Output(layout={'border': '1px solid black'})\n",
    "display(out)\n",
    "\n",
    "with out:\n",
    "    display(vid)\n",
    "    display(btn_exit_video)\n",
    "out.layout.display = \"none\"  #.layout.visibility = 'hidden'\n",
    "\n",
    "#####"
   ]
  },
  {
   "cell_type": "code",
   "execution_count": null,
   "id": "9ebca142",
   "metadata": {},
   "outputs": [],
   "source": [
    "def Vid_fonc(_):\n",
    "    out.layout.display = \"block\"\n",
    "#####################\n",
    "Vid_w = widgets.ToggleButton(\n",
    "    value=False,\n",
    "    description=' Démo : icônes',\n",
    "    disabled=False,\n",
    "    button_style='success', # 'success', 'info', 'warning', 'danger' or ''\n",
    "    tooltip=\"Cliquer pour voir la vidéo\",\n",
    "    icon='video' # (FontAwesome names without the `fa-` prefix)\n",
    ")\n",
    "Vid_w.observe(Vid_fonc,names='value')\n",
    "#####################\n",
    "Box_im_titre=HBox([im_titre,Vid_w])\n",
    "Box_im_titre.layout.border = '1px solid black'\n",
    "Box_im_titre\n",
    "# display(Vid_w)"
   ]
  },
  {
   "cell_type": "code",
   "execution_count": 3,
   "id": "standing-kernel",
   "metadata": {},
   "outputs": [],
   "source": [
    "def coul_fonc(change):\n",
    "    couleur=change['new']\n",
    "    icone=question.value\n",
    "    ################\"\"\n",
    "    latitude=  49.245 #062 \n",
    "    longitude= 4.0271 \n",
    "    Coord = [latitude, longitude]\n",
    "    #############################################################\n",
    "    infos=\"<u>icone testée :</u> <b>\"+str(icone) #+\"</b> : <br />\"+str(li[0])+\" : \"+str(li[1])+\". <br />\"+str(li[3])+\". <br />\"+str(li[40])+\", \"+str(li[41])+\" \"+str(li[42])+\"<br/> --> Tel : \"+str(li[43])+\"<br/> --> Mail : \"+str(li[51])+\"<br/> --> <a target='_blank' rel='noopener noreferrer' href='\"+str(li[44])+\"'>Lien </a>\"\n",
    "    ## icon de base\n",
    "    icon = AwesomeIcon(name=icone, marker_color=couleur, icon_color='black', icon_size=[40, 40])\n",
    "    mark = Marker(location=Coord, draggable=False, icon=icon) #, name=li[0]) # markerColor: 'green' # marker_color\n",
    "    ##########################################\n",
    "    message2 = HTML()\n",
    "    message2.value = infos\n",
    "    # Popup with a given location on the map:\n",
    "    popup = Popup(\n",
    "        location=Coord,\n",
    "        close_button=False,\n",
    "        auto_close=False,\n",
    "        close_on_escape_key=False\n",
    "    ) #\n",
    "    mark.popup = message2\n",
    "    m.add_layer(mark)\n",
    "    ############################\n",
    "    return couleur"
   ]
  },
  {
   "cell_type": "code",
   "execution_count": 4,
   "id": "freelance-vatican",
   "metadata": {},
   "outputs": [
    {
     "ename": "NameError",
     "evalue": "name 'couleur' is not defined",
     "output_type": "error",
     "traceback": [
      "\u001b[0;31m---------------------------------------------------------------------------\u001b[0m",
      "\u001b[0;31mNameError\u001b[0m                                 Traceback (most recent call last)",
      "\u001b[0;32m<ipython-input-4-44b256a601fe>\u001b[0m in \u001b[0;36m<module>\u001b[0;34m\u001b[0m\n\u001b[1;32m      1\u001b[0m coul = Dropdown(\n\u001b[1;32m      2\u001b[0m     \u001b[0moptions\u001b[0m\u001b[0;34m=\u001b[0m\u001b[0;34m[\u001b[0m\u001b[0;34m'orange'\u001b[0m\u001b[0;34m,\u001b[0m \u001b[0;34m'blue'\u001b[0m\u001b[0;34m,\u001b[0m \u001b[0;34m'white'\u001b[0m\u001b[0;34m,\u001b[0m\u001b[0;34m'red'\u001b[0m\u001b[0;34m,\u001b[0m\u001b[0;34m'green'\u001b[0m\u001b[0;34m,\u001b[0m\u001b[0;34m'brown'\u001b[0m\u001b[0;34m,\u001b[0m\u001b[0;34m'purple'\u001b[0m\u001b[0;34m,\u001b[0m\u001b[0;34m'gray'\u001b[0m\u001b[0;34m,\u001b[0m\u001b[0;34m'lihgtblue'\u001b[0m\u001b[0;34m]\u001b[0m\u001b[0;34m,\u001b[0m\u001b[0;34m\u001b[0m\u001b[0;34m\u001b[0m\u001b[0m\n\u001b[0;32m----> 3\u001b[0;31m     \u001b[0mvalue\u001b[0m\u001b[0;34m=\u001b[0m\u001b[0mcouleur\u001b[0m\u001b[0;34m,\u001b[0m\u001b[0;34m\u001b[0m\u001b[0;34m\u001b[0m\u001b[0m\n\u001b[0m\u001b[1;32m      4\u001b[0m     \u001b[0mdescription\u001b[0m\u001b[0;34m=\u001b[0m\u001b[0;34m\"Couleur fond d'icone :\"\u001b[0m\u001b[0;34m,\u001b[0m\u001b[0;34m\u001b[0m\u001b[0;34m\u001b[0m\u001b[0m\n\u001b[1;32m      5\u001b[0m     \u001b[0mdisabled\u001b[0m\u001b[0;34m=\u001b[0m\u001b[0;32mFalse\u001b[0m\u001b[0;34m,\u001b[0m\u001b[0;34m\u001b[0m\u001b[0;34m\u001b[0m\u001b[0m\n",
      "\u001b[0;31mNameError\u001b[0m: name 'couleur' is not defined"
     ]
    }
   ],
   "source": [
    "coul = Dropdown(\n",
    "    options=['orange', 'beige','blue','lightblue', 'white','red','lightred','darkred','green','lightgreen','purple','pink','gray','lightgray',],\n",
    "    value=couleur,\n",
    "    disabled=False,\n",
    ")\n",
    "coul.observe(coul_fonc,names='value')\n",
    "# display(coul)"
   ]
  },
  {
   "cell_type": "code",
   "execution_count": null,
   "id": "negative-summit",
   "metadata": {},
   "outputs": [],
   "source": [
    "yep=widgets.HTML(\n",
    "    value=\"<a href='https://fontawesome.com/v5.15/icons?d=gallery&p=2&m=free' target='_blank'><i class='fas fa-share-square' aria-hidden='true' color='#33CC66'></i></a>\")\n",
    "\n",
    "Tex3=\"1) Ouvrez le site 'Font Awesome Icons', et choisissez une icone --> \"\n",
    "Texto3 = widgets.HTML(value= '<style>p{word-wrap: break-word}</style> <p>'+ Tex3 +' </p>')\n",
    "Btn_yep = HBox([Texto3,yep])\n",
    "\n",
    "display(Btn_yep)# 33CC66 # 66FF99"
   ]
  },
  {
   "cell_type": "code",
   "execution_count": null,
   "id": "enclosed-swaziland",
   "metadata": {},
   "outputs": [],
   "source": [
    "def question_fonc(_):\n",
    "    global couleur\n",
    "    icone = question.value\n",
    "    couleur=coul.value\n",
    "    print(\"icone = \",icone)\n",
    "#     m.remove(name='testicone')\n",
    "    ################\"\"\n",
    "    latitude=  49.245 #062 \n",
    "    longitude= 4.0271 \n",
    "    Coord = [latitude, longitude]\n",
    "    #############################################################\n",
    "    infos=\"<u>icone testée :</u> <b>\"+str(icone) #+\"</b> : <br />\"+str(li[0])+\" : \"+str(li[1])+\". <br />\"+str(li[3])+\". <br />\"+str(li[40])+\", \"+str(li[41])+\" \"+str(li[42])+\"<br/> --> Tel : \"+str(li[43])+\"<br/> --> Mail : \"+str(li[51])+\"<br/> --> <a target='_blank' rel='noopener noreferrer' href='\"+str(li[44])+\"'>Lien </a>\"\n",
    "    ## icon de base\n",
    "    icon = AwesomeIcon(name=icone, marker_color=couleur, icon_color='black', icon_size=[40, 40])\n",
    "    mark = Marker(location=Coord, draggable=False, icon=icon, name=\"testicone\") #, name=li[0]) # markerColor: 'green' # marker_color\n",
    "    ##########################################\n",
    "    message2 = HTML()\n",
    "    message2.value = infos\n",
    "    # Popup with a given location on the map:\n",
    "    popup = Popup(\n",
    "        location=Coord,\n",
    "        close_button=False,\n",
    "        auto_close=False,\n",
    "        close_on_escape_key=False\n",
    "    ) #\n",
    "    mark.popup = message2\n",
    "    m.add_layer(mark)\n",
    "    ############################\n",
    "    return icone"
   ]
  },
  {
   "cell_type": "code",
   "execution_count": null,
   "id": "cathedral-oxford",
   "metadata": {},
   "outputs": [],
   "source": [
    "from ipyleaflet import (\n",
    "    Map, basemaps, basemap_to_tiles,\n",
    "    Circle, Marker, Rectangle, LayerGroup, LayersControl,\n",
    "    AwesomeIcon, Popup, ScaleControl, FullScreenControl,\n",
    "    SearchControl\n",
    ")\n",
    "from ipywidgets import HTML\n",
    "###################################\n",
    "\n",
    "###############################################\n",
    "cent = [49.25112, 4.035] #4.0271]\n",
    "zoom = 18\n",
    "m = Map(center=cent, zoom=zoom)\n",
    "# m.add_control(FullScreenControl())\n",
    "# marker = Marker(icon=AwesomeIcon(name=\"check\", marker_color='green', icon_color='darkgreen'))\n",
    "\n",
    "# m.add_control(SearchControl(\n",
    "#   position=\"topleft\",\n",
    "#   url='https://nominatim.openstreetmap.org/search?format=json&q={s}',\n",
    "#   zoom=15,\n",
    "#   marker=marker\n",
    "# ))\n",
    "\n",
    "m.interact(zoom=(5,13,1))\n",
    "###############################################################\n",
    "\n",
    "#############################################################\n",
    "list_icon = ['industry','fa-graduation-cap','flask',  'heartbeat', 'cut','random','hourglass-start','link','leaf','pills','eye','coffee']\n",
    "len_list_icon = len(list_icon)\n",
    "for a in range(len_list_icon):\n",
    "    icon = list_icon[a]\n",
    "#     cent = [49.25112, 4.0271]\n",
    "    latitude=  49.25112 \n",
    "    longitude= 4.0271 + (0.005*a)\n",
    "    Coord = [latitude, longitude]\n",
    "#############################################################\n",
    "    infos=\"<u>icone :</u> <b>\"+str(list_icon[a]) #+\"</b> : <br />\"+str(li[0])+\" : \"+str(li[1])+\". <br />\"+str(li[3])+\". <br />\"+str(li[40])+\", \"+str(li[41])+\" \"+str(li[42])+\"<br/> --> Tel : \"+str(li[43])+\"<br/> --> Mail : \"+str(li[51])+\"<br/> --> <a target='_blank' rel='noopener noreferrer' href='\"+str(li[44])+\"'>Lien </a>\"\n",
    "    ## icon de base\n",
    "    icon = AwesomeIcon(name=list_icon[a], marker_color='lightblue', icon_color='black', icon_size=[40, 40])\n",
    "    mark = Marker(location=Coord, draggable=False, icon=icon) #, name=li[0]) # markerColor: 'green' # marker_color\n",
    "    ##########################################\n",
    "    message2 = HTML()\n",
    "    message2.value = infos\n",
    "    # Popup with a given location on the map:\n",
    "    popup = Popup(\n",
    "        location=Coord,\n",
    "        close_button=False,\n",
    "        auto_close=False,\n",
    "        close_on_escape_key=False\n",
    "    ) #\n",
    "    mark.popup = message2\n",
    "    m.add_layer(mark)\n",
    "\n",
    "# m.add_control(ScaleControl(position='bottomleft'))\n",
    "# control = LayersControl(position='topleft')\n",
    "# m.add_control(control)\n",
    "#########################################################################################\n",
    "## Test icones :\n",
    "###################\n",
    "question = Text(\n",
    "    value=\"industry\",\n",
    "    placeholder='Collez ici',\n",
    "    disabled=False\n",
    ")\n",
    "# question.observe(question_fonc,names='value')\n",
    "# display(question)\n",
    "#######################################\n",
    "Tex3=\"2) Collez dans ce cadre le nom de l'icone à tester,\"+\" <br />\"+\" et 3) Appluyez sur Play pour tester si l'icone fonctionne : \"\n",
    "Texto3 = widgets.HTML(value= '<style>p{word-wrap: break-word}</style> <p>'+ Tex3 +' </p>')\n",
    "Btn_question = HBox([Texto3,question])\n",
    "##################################\n",
    "#######################################\n",
    "Tex5=\"..4) Vous pouvez aussi choisir une couleur : \"\n",
    "Texto5 = widgets.HTML(value= '<style>p{word-wrap: break-word}</style> <p>'+ Tex5 +' </p>')\n",
    "Btn_coul = HBox([Texto5,coul])\n",
    "\n",
    "##################################\n",
    "# class='fa fa-play' aria-hidden='true' color='#33CC66'\n",
    "btn_choix = Button(icon=\"play\",button_style='info') # cogs  # angle-left # file-pdf-o # spinner\n",
    "btn_choix.layout.width=\"30px\"\n",
    "btn_choix.on_click(question_fonc)\n",
    "# display(btn_icone)\n",
    "# Valid=HBox([Texto4,btn_choix])\n",
    "################################################################################\n",
    "\n",
    "######################################################################\n",
    "Interro_ico = HBox([Btn_question,btn_choix,Btn_coul ]) # btn_choix])\n",
    "display(Interro_ico)\n",
    "######################################################################\n",
    "latitude=  49.245 #062 \n",
    "longitude= 4.0271 \n",
    "Coord = [latitude, longitude]\n",
    "#############################################################\n",
    "infos=\"<u>icone testée :</u> <b>\"+str(icone) #+\"</b> : <br />\"+str(li[0])+\" : \"+str(li[1])+\". <br />\"+str(li[3])+\". <br />\"+str(li[40])+\", \"+str(li[41])+\" \"+str(li[42])+\"<br/> --> Tel : \"+str(li[43])+\"<br/> --> Mail : \"+str(li[51])+\"<br/> --> <a target='_blank' rel='noopener noreferrer' href='\"+str(li[44])+\"'>Lien </a>\"\n",
    "## icon de base\n",
    "icon = AwesomeIcon(name='industry', marker_color='orange', icon_color='black', icon_size=[40, 40])\n",
    "mark = Marker(location=Coord, draggable=False, icon=icon, name=\"testicone\") #, name=li[0]) # markerColor: 'green' # marker_color\n",
    "##########################################\n",
    "message2 = HTML()\n",
    "message2.value = infos\n",
    "# Popup with a given location on the map:\n",
    "popup = Popup(\n",
    "    location=Coord,\n",
    "    close_button=False,\n",
    "    auto_close=False,\n",
    "    close_on_escape_key=False\n",
    ") #\n",
    "mark.popup = message2\n",
    "m.add_layer(mark)\n",
    "################################################################################\n",
    "\n",
    "m"
   ]
  }
 ],
 "metadata": {
  "kernelspec": {
   "display_name": "Python 3",
   "language": "python",
   "name": "python3"
  },
  "language_info": {
   "codemirror_mode": {
    "name": "ipython",
    "version": 3
   },
   "file_extension": ".py",
   "mimetype": "text/x-python",
   "name": "python",
   "nbconvert_exporter": "python",
   "pygments_lexer": "ipython3",
   "version": "3.8.8"
  }
 },
 "nbformat": 4,
 "nbformat_minor": 5
}
